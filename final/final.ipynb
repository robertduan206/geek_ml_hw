{
 "cells": [
  {
   "cell_type": "code",
   "execution_count": 1,
   "metadata": {
    "ExecuteTime": {
     "end_time": "2021-07-11T12:55:55.145320Z",
     "start_time": "2021-07-11T12:55:43.074996Z"
    },
    "id": "gZoA3hv5RwBB"
   },
   "outputs": [],
   "source": [
    "import pandas as pd\n",
    "import numpy as np\n",
    "\n",
    "x_train = pd.read_csv('./train_final.csv', engine='python')\n",
    "x_test = pd.read_csv('./test_final.csv', engine='python')\n",
    "\n",
    "# y_train = pd.read_csv('./cardashians/ytrain.csv', engine='python')\n",
    "# y_test = pd.read_csv('./cardashians/ytest.csv', engine='python')"
   ]
  },
  {
   "cell_type": "code",
   "execution_count": 2,
   "metadata": {
    "ExecuteTime": {
     "end_time": "2021-07-11T12:55:55.168349Z",
     "start_time": "2021-07-11T12:55:55.162342Z"
    },
    "id": "xqPm5e66SCV4"
   },
   "outputs": [],
   "source": [
    "TRAIN_IDX=x_train.shape[0]\n",
    "TEST_IDX = TRAIN_IDX + x_test.shape[0]"
   ]
  },
  {
   "cell_type": "code",
   "execution_count": 3,
   "metadata": {
    "ExecuteTime": {
     "end_time": "2021-07-11T12:55:55.190376Z",
     "start_time": "2021-07-11T12:55:55.171352Z"
    }
   },
   "outputs": [],
   "source": [
    "label = 'loan_status'"
   ]
  },
  {
   "cell_type": "code",
   "execution_count": 4,
   "metadata": {
    "ExecuteTime": {
     "end_time": "2021-07-11T12:55:55.367652Z",
     "start_time": "2021-07-11T12:55:55.192379Z"
    },
    "id": "SSyfWl8bSiTD"
   },
   "outputs": [],
   "source": [
    "# x = pd.concat([x_train, x_test], axis=0)\n",
    "# y = pd.concat([y_train, y_test], axis=0)\n",
    "\n",
    "# data = pd.concat([x, y], axis=1)\n",
    "data = pd.concat([x_train, x_test], axis=0)"
   ]
  },
  {
   "cell_type": "code",
   "execution_count": 5,
   "metadata": {
    "ExecuteTime": {
     "end_time": "2021-07-11T12:55:55.384674Z",
     "start_time": "2021-07-11T12:55:55.370656Z"
    }
   },
   "outputs": [
    {
     "data": {
      "text/plain": [
       "50000"
      ]
     },
     "execution_count": 5,
     "metadata": {},
     "output_type": "execute_result"
    },
    {
     "data": {
      "text/plain": [
       "100000"
      ]
     },
     "execution_count": 5,
     "metadata": {},
     "output_type": "execute_result"
    }
   ],
   "source": [
    "TRAIN_IDX\n",
    "TEST_IDX"
   ]
  },
  {
   "cell_type": "code",
   "execution_count": 7,
   "metadata": {
    "ExecuteTime": {
     "end_time": "2021-07-11T12:55:57.236658Z",
     "start_time": "2021-07-11T12:55:57.229640Z"
    },
    "colab": {
     "base_uri": "https://localhost:8080/"
    },
    "id": "90k7D9AvS74h",
    "outputId": "c924ead4-4bf5-4a12-cbec-1859379b8c32"
   },
   "outputs": [
    {
     "data": {
      "text/plain": [
       "['continuous_annual_inc',\n",
       " 'continuous_annual_inc_joint',\n",
       " 'continuous_delinq_2yrs',\n",
       " 'continuous_dti',\n",
       " 'continuous_dti_joint',\n",
       " 'continuous_fico_range_high',\n",
       " 'continuous_fico_range_low',\n",
       " 'continuous_funded_amnt',\n",
       " 'continuous_funded_amnt_inv',\n",
       " 'continuous_inq_last_6mths',\n",
       " 'continuous_installment',\n",
       " 'continuous_int_rate',\n",
       " 'continuous_last_fico_range_high',\n",
       " 'continuous_last_fico_range_low',\n",
       " 'continuous_loan_amnt',\n",
       " 'loan_status',\n",
       " 'continuous_mths_since_last_delinq',\n",
       " 'continuous_mths_since_last_major_derog',\n",
       " 'continuous_mths_since_last_record',\n",
       " 'continuous_open_acc',\n",
       " 'continuous_pub_rec',\n",
       " 'discrete_addr_state_1_one_hot',\n",
       " 'discrete_addr_state_2_one_hot',\n",
       " 'discrete_addr_state_3_one_hot',\n",
       " 'discrete_addr_state_4_one_hot',\n",
       " 'discrete_addr_state_5_one_hot',\n",
       " 'discrete_addr_state_6_one_hot',\n",
       " 'discrete_addr_state_7_one_hot',\n",
       " 'discrete_addr_state_8_one_hot',\n",
       " 'discrete_addr_state_9_one_hot',\n",
       " 'discrete_addr_state_10_one_hot',\n",
       " 'discrete_addr_state_11_one_hot',\n",
       " 'discrete_addr_state_12_one_hot',\n",
       " 'discrete_addr_state_13_one_hot',\n",
       " 'discrete_addr_state_14_one_hot',\n",
       " 'discrete_addr_state_15_one_hot',\n",
       " 'discrete_addr_state_16_one_hot',\n",
       " 'discrete_addr_state_17_one_hot',\n",
       " 'discrete_addr_state_18_one_hot',\n",
       " 'discrete_addr_state_19_one_hot',\n",
       " 'discrete_addr_state_20_one_hot',\n",
       " 'discrete_addr_state_21_one_hot',\n",
       " 'discrete_addr_state_22_one_hot',\n",
       " 'discrete_addr_state_23_one_hot',\n",
       " 'discrete_addr_state_24_one_hot',\n",
       " 'discrete_addr_state_25_one_hot',\n",
       " 'discrete_addr_state_26_one_hot',\n",
       " 'discrete_addr_state_27_one_hot',\n",
       " 'discrete_addr_state_28_one_hot',\n",
       " 'discrete_addr_state_29_one_hot',\n",
       " 'discrete_addr_state_30_one_hot',\n",
       " 'discrete_addr_state_31_one_hot',\n",
       " 'discrete_addr_state_32_one_hot',\n",
       " 'discrete_addr_state_33_one_hot',\n",
       " 'discrete_addr_state_34_one_hot',\n",
       " 'discrete_addr_state_35_one_hot',\n",
       " 'discrete_addr_state_36_one_hot',\n",
       " 'discrete_addr_state_37_one_hot',\n",
       " 'discrete_addr_state_38_one_hot',\n",
       " 'discrete_addr_state_39_one_hot',\n",
       " 'discrete_addr_state_40_one_hot',\n",
       " 'discrete_addr_state_41_one_hot',\n",
       " 'discrete_addr_state_42_one_hot',\n",
       " 'discrete_addr_state_43_one_hot',\n",
       " 'discrete_addr_state_44_one_hot',\n",
       " 'discrete_addr_state_45_one_hot',\n",
       " 'discrete_addr_state_46_one_hot',\n",
       " 'discrete_addr_state_47_one_hot',\n",
       " 'discrete_addr_state_48_one_hot',\n",
       " 'discrete_addr_state_49_one_hot',\n",
       " 'discrete_application_type_1_one_hot',\n",
       " 'discrete_application_type_2_one_hot',\n",
       " 'discrete_emp_length_1_one_hot',\n",
       " 'discrete_emp_length_2_one_hot',\n",
       " 'discrete_emp_length_3_one_hot',\n",
       " 'discrete_emp_length_4_one_hot',\n",
       " 'discrete_emp_length_5_one_hot',\n",
       " 'discrete_emp_length_6_one_hot',\n",
       " 'discrete_emp_length_7_one_hot',\n",
       " 'discrete_emp_length_8_one_hot',\n",
       " 'discrete_emp_length_9_one_hot',\n",
       " 'discrete_emp_length_10_one_hot',\n",
       " 'discrete_emp_length_11_one_hot',\n",
       " 'discrete_emp_length_12_one_hot',\n",
       " 'discrete_grade_1_one_hot',\n",
       " 'discrete_grade_2_one_hot',\n",
       " 'discrete_grade_3_one_hot',\n",
       " 'discrete_grade_4_one_hot',\n",
       " 'discrete_grade_5_one_hot',\n",
       " 'discrete_grade_6_one_hot',\n",
       " 'discrete_grade_7_one_hot',\n",
       " 'discrete_home_ownership_1_one_hot',\n",
       " 'discrete_home_ownership_2_one_hot',\n",
       " 'discrete_home_ownership_3_one_hot',\n",
       " 'discrete_home_ownership_4_one_hot',\n",
       " 'discrete_policy_code_1_one_hot',\n",
       " 'discrete_purpose_1_one_hot',\n",
       " 'discrete_purpose_2_one_hot',\n",
       " 'discrete_purpose_3_one_hot',\n",
       " 'discrete_purpose_4_one_hot',\n",
       " 'discrete_purpose_5_one_hot',\n",
       " 'discrete_purpose_6_one_hot',\n",
       " 'discrete_purpose_7_one_hot',\n",
       " 'discrete_purpose_8_one_hot',\n",
       " 'discrete_purpose_9_one_hot',\n",
       " 'discrete_purpose_10_one_hot',\n",
       " 'discrete_purpose_11_one_hot',\n",
       " 'discrete_purpose_12_one_hot',\n",
       " 'discrete_pymnt_plan_1_one_hot',\n",
       " 'discrete_sub_grade_1_one_hot',\n",
       " 'discrete_sub_grade_2_one_hot',\n",
       " 'discrete_sub_grade_3_one_hot',\n",
       " 'discrete_sub_grade_4_one_hot',\n",
       " 'discrete_sub_grade_5_one_hot',\n",
       " 'discrete_sub_grade_6_one_hot',\n",
       " 'discrete_sub_grade_7_one_hot',\n",
       " 'discrete_sub_grade_8_one_hot',\n",
       " 'discrete_sub_grade_9_one_hot',\n",
       " 'discrete_sub_grade_10_one_hot',\n",
       " 'discrete_sub_grade_11_one_hot',\n",
       " 'discrete_sub_grade_12_one_hot',\n",
       " 'discrete_sub_grade_13_one_hot',\n",
       " 'discrete_sub_grade_14_one_hot',\n",
       " 'discrete_sub_grade_15_one_hot',\n",
       " 'discrete_sub_grade_16_one_hot',\n",
       " 'discrete_sub_grade_17_one_hot',\n",
       " 'discrete_sub_grade_18_one_hot',\n",
       " 'discrete_sub_grade_19_one_hot',\n",
       " 'discrete_sub_grade_20_one_hot',\n",
       " 'discrete_sub_grade_21_one_hot',\n",
       " 'discrete_sub_grade_22_one_hot',\n",
       " 'discrete_sub_grade_23_one_hot',\n",
       " 'discrete_sub_grade_24_one_hot',\n",
       " 'discrete_sub_grade_25_one_hot',\n",
       " 'discrete_sub_grade_26_one_hot',\n",
       " 'discrete_sub_grade_27_one_hot',\n",
       " 'discrete_sub_grade_28_one_hot',\n",
       " 'discrete_sub_grade_29_one_hot',\n",
       " 'discrete_sub_grade_30_one_hot',\n",
       " 'discrete_sub_grade_31_one_hot',\n",
       " 'discrete_sub_grade_32_one_hot',\n",
       " 'discrete_sub_grade_33_one_hot',\n",
       " 'discrete_sub_grade_34_one_hot',\n",
       " 'discrete_sub_grade_35_one_hot',\n",
       " 'discrete_term_1_one_hot',\n",
       " 'discrete_term_2_one_hot']"
      ]
     },
     "execution_count": 7,
     "metadata": {},
     "output_type": "execute_result"
    }
   ],
   "source": [
    "data.columns.to_list()"
   ]
  },
  {
   "cell_type": "markdown",
   "metadata": {
    "id": "MJU3SxO-fGjp"
   },
   "source": [
    "## TreeBased Models  \n",
    "\n",
    "---\n",
    "In this example, we use lightgbm as the tree model of choice."
   ]
  },
  {
   "cell_type": "code",
   "execution_count": 8,
   "metadata": {
    "ExecuteTime": {
     "end_time": "2021-07-11T12:55:59.166685Z",
     "start_time": "2021-07-11T12:55:59.162680Z"
    },
    "id": "tWEKOv0peoNj"
   },
   "outputs": [],
   "source": [
    "train = data.iloc[:TRAIN_IDX, :]\n",
    "test = data.iloc[TRAIN_IDX:TEST_IDX, :]"
   ]
  },
  {
   "cell_type": "code",
   "execution_count": 9,
   "metadata": {
    "ExecuteTime": {
     "end_time": "2021-07-11T12:56:01.352342Z",
     "start_time": "2021-07-11T12:56:00.094614Z"
    },
    "id": "XL0FibSQ2kxa"
   },
   "outputs": [],
   "source": [
    "import lightgbm as lgb\n",
    "train_dataset = lgb.Dataset(train.drop(columns=label), train[label])\n",
    "test_dataset = lgb.Dataset(test.drop(columns=label), test[label])"
   ]
  },
  {
   "cell_type": "code",
   "execution_count": 10,
   "metadata": {
    "ExecuteTime": {
     "end_time": "2021-07-11T12:56:01.362352Z",
     "start_time": "2021-07-11T12:56:01.354342Z"
    },
    "id": "fkpnHn_S3BGV"
   },
   "outputs": [],
   "source": [
    "param = {'num_leaves': 31, 'objective': 'binary', 'metric':'binary_error'}\n",
    "# param = {'num_leaves': 31, 'objective': 'binary', 'metric':'auc'}\n",
    "num_round = 2000"
   ]
  },
  {
   "cell_type": "code",
   "execution_count": 11,
   "metadata": {
    "ExecuteTime": {
     "end_time": "2021-07-11T12:56:03.610859Z",
     "start_time": "2021-07-11T12:56:01.566174Z"
    },
    "colab": {
     "base_uri": "https://localhost:8080/"
    },
    "id": "PtLIAW9R3IKt",
    "outputId": "e4ac9d69-6e02-43ac-b79f-c8b98e766043",
    "scrolled": true
   },
   "outputs": [
    {
     "name": "stdout",
     "output_type": "stream",
     "text": [
      "[LightGBM] [Info] Number of positive: 39788, number of negative: 10212\n",
      "[LightGBM] [Warning] Auto-choosing col-wise multi-threading, the overhead of testing was 0.011258 seconds.\n",
      "You can set `force_col_wise=true` to remove the overhead.\n",
      "[LightGBM] [Info] Total Bins 2611\n",
      "[LightGBM] [Info] Number of data points in the train set: 50000, number of used features: 141\n",
      "[LightGBM] [Info] [binary:BoostFromScore]: pavg=0.795760 -> initscore=1.360002\n",
      "[LightGBM] [Info] Start training from score 1.360002\n",
      "Training until validation scores don't improve for 200 rounds\n",
      "[200]\ttraining's binary_error: 0.05664\tvalid_1's binary_error: 0.08344\n",
      "Early stopping, best iteration is:\n",
      "[73]\ttraining's binary_error: 0.06994\tvalid_1's binary_error: 0.08258\n"
     ]
    }
   ],
   "source": [
    "model = lgb.train(param, train_dataset, num_boost_round=num_round, valid_sets=[train_dataset, test_dataset], verbose_eval=200,early_stopping_rounds=200)"
   ]
  },
  {
   "cell_type": "code",
   "execution_count": 12,
   "metadata": {
    "ExecuteTime": {
     "end_time": "2021-07-11T12:57:01.195489Z",
     "start_time": "2021-07-11T12:57:01.190483Z"
    }
   },
   "outputs": [
    {
     "data": {
      "text/plain": [
       "(50000, 146)"
      ]
     },
     "execution_count": 12,
     "metadata": {},
     "output_type": "execute_result"
    }
   ],
   "source": [
    "train.shape"
   ]
  },
  {
   "cell_type": "code",
   "execution_count": 14,
   "metadata": {
    "ExecuteTime": {
     "end_time": "2021-07-11T12:57:07.358161Z",
     "start_time": "2021-07-11T12:57:06.499341Z"
    },
    "scrolled": false
   },
   "outputs": [
    {
     "data": {
      "text/html": [
       "<div>\n",
       "<style scoped>\n",
       "    .dataframe tbody tr th:only-of-type {\n",
       "        vertical-align: middle;\n",
       "    }\n",
       "\n",
       "    .dataframe tbody tr th {\n",
       "        vertical-align: top;\n",
       "    }\n",
       "\n",
       "    .dataframe thead th {\n",
       "        text-align: right;\n",
       "    }\n",
       "</style>\n",
       "<table border=\"1\" class=\"dataframe\">\n",
       "  <thead>\n",
       "    <tr style=\"text-align: right;\">\n",
       "      <th></th>\n",
       "      <th>Value</th>\n",
       "      <th>Feature</th>\n",
       "    </tr>\n",
       "  </thead>\n",
       "  <tbody>\n",
       "    <tr>\n",
       "      <th>0</th>\n",
       "      <td>345</td>\n",
       "      <td>continuous_last_fico_range_high</td>\n",
       "    </tr>\n",
       "    <tr>\n",
       "      <th>1</th>\n",
       "      <td>223</td>\n",
       "      <td>continuous_dti</td>\n",
       "    </tr>\n",
       "    <tr>\n",
       "      <th>2</th>\n",
       "      <td>171</td>\n",
       "      <td>continuous_installment</td>\n",
       "    </tr>\n",
       "    <tr>\n",
       "      <th>3</th>\n",
       "      <td>138</td>\n",
       "      <td>loan_status</td>\n",
       "    </tr>\n",
       "    <tr>\n",
       "      <th>4</th>\n",
       "      <td>125</td>\n",
       "      <td>continuous_fico_range_high</td>\n",
       "    </tr>\n",
       "  </tbody>\n",
       "</table>\n",
       "</div>"
      ],
      "text/plain": [
       "   Value                          Feature\n",
       "0    345  continuous_last_fico_range_high\n",
       "1    223                   continuous_dti\n",
       "2    171           continuous_installment\n",
       "3    138                      loan_status\n",
       "4    125       continuous_fico_range_high"
      ]
     },
     "execution_count": 14,
     "metadata": {},
     "output_type": "execute_result"
    },
    {
     "data": {
      "text/plain": [
       "<Figure size 1080x576 with 0 Axes>"
      ]
     },
     "execution_count": 14,
     "metadata": {},
     "output_type": "execute_result"
    },
    {
     "data": {
      "text/plain": [
       "<AxesSubplot:xlabel='Value', ylabel='Feature'>"
      ]
     },
     "execution_count": 14,
     "metadata": {},
     "output_type": "execute_result"
    },
    {
     "data": {
      "text/plain": [
       "Text(0.5, 1.0, 'LightGBM Features (avg over folds)')"
      ]
     },
     "execution_count": 14,
     "metadata": {},
     "output_type": "execute_result"
    },
    {
     "data": {
      "image/png": "[encoded data removed]",
      "text/plain": [
       "<Figure size 1080x576 with 1 Axes>"
      ]
     },
     "metadata": {
      "needs_background": "light"
     },
     "output_type": "display_data"
    }
   ],
   "source": [
    "import matplotlib.pyplot as plt\n",
    "import seaborn as sns\n",
    "import warnings\n",
    "warnings.simplefilter(action='ignore', category=FutureWarning)\n",
    "\n",
    "# sorted(zip(model.feature_importance(), train.columns), reverse=True)\n",
    "feature_imp = pd.DataFrame(sorted(zip(model.feature_importance(), train.columns), reverse=True), columns=['Value','Feature']).head(6)\n",
    "feature_imp.head()\n",
    "plt.figure(figsize=(15, 8))\n",
    "sns.barplot(x=\"Value\", y=\"Feature\", data=feature_imp.sort_values(by=\"Value\", ascending=False))\n",
    "plt.title('LightGBM Features (avg over folds)')\n",
    "# plt.tight_layout()\n",
    "plt.show()"
   ]
  },
  {
   "cell_type": "markdown",
   "metadata": {
    "id": "auwWD3H63XH8"
   },
   "source": [
    "## Wrapper"
   ]
  },
  {
   "cell_type": "code",
   "execution_count": 62,
   "metadata": {
    "ExecuteTime": {
     "end_time": "2021-07-11T15:06:00.829940Z",
     "start_time": "2021-07-11T15:06:00.824933Z"
    },
    "id": "pk8phvUz3Lkk"
   },
   "outputs": [],
   "source": [
    "import io\n",
    "import multiprocessing\n",
    "from contextlib import redirect_stdout\n",
    "from copy import deepcopy\n",
    "from dataclasses import dataclass, asdict\n",
    "import hyperopt.pyll\n",
    "from hyperopt import fmin, tpe, hp\n",
    "import numpy as np\n",
    "import lightgbm as lgb\n",
    "from sklearn.metrics import accuracy_score\n",
    "from sklearn.metrics import f1_score\n",
    "from sklearn.metrics import precision_score\n",
    "from sklearn.metrics import recall_score\n",
    "from sklearn.metrics import roc_auc_score\n",
    "import torch\n",
    "import copy\n",
    "\n",
    "cpu_count = 4\n",
    "use_gpu = False"
   ]
  },
  {
   "cell_type": "code",
   "execution_count": 63,
   "metadata": {
    "ExecuteTime": {
     "end_time": "2021-07-11T15:06:01.375481Z",
     "start_time": "2021-07-11T15:06:01.360941Z"
    },
    "id": "pk8phvUz3Lkk"
   },
   "outputs": [],
   "source": [
    "@dataclass\n",
    "class LGBOpt:\n",
    "    num_threads: any = hp.choice('num_threads', [cpu_count])\n",
    "    num_leaves: any = hp.choice('num_leaves', [64])\n",
    "    metric: any = hp.choice('metric', ['binary_error'])\n",
    "    num_round: any = hp.choice('num_rounds', [1000])\n",
    "    objective: any = hp.choice('objective', ['binary'])\n",
    "    learning_rate: any = hp.uniform('learning_rate', 0.01, 0.1)\n",
    "    feature_fraction: any = hp.uniform('feature_fraction', 0.5, 1.0)\n",
    "    bagging_fraction: any = hp.uniform('bagging_fraction', 0.8, 1.0)\n",
    "    device_type: any = hp.choice('device_tpye', ['gpu']) if use_gpu else hp.choice('device_type',\n",
    "                                                                                   ['cpu'])\n",
    "#     boosting: any = hp.choice('boosting', ['gbdt', 'dart', 'goss'])\n",
    "    boosting: any = hp.choice('boosting', ['gbdt', ])\n",
    "    extra_trees: any = hp.choice('extra_tress', [False, True])\n",
    "    drop_rate: any = hp.uniform('drop_rate', 0, 0.2)\n",
    "    uniform_drop: any = hp.choice('uniform_drop', [True, False])\n",
    "    lambda_l1: any = hp.uniform('lambda_l1', 0, 10)  # TODO: Check range\n",
    "    lambda_l2: any = hp.uniform('lambda_l2', 0, 10)  # TODO: Check range\n",
    "    min_gain_to_split: any = hp.uniform('min_gain_to_split', 0, 1)  # TODO: Check range\n",
    "    min_data_in_bin = hp.choice('min_data_in_bin', [3, 5, 10, 15, 20, 50])\n",
    "\n",
    "    @staticmethod\n",
    "    def get_common_params():\n",
    "        return {'num_thread': 4, 'num_leaves': 12, 'metric': 'binary', 'objective': 'binary',\n",
    "                'num_round': 1000, 'learning_rate': 0.01, 'feature_fraction': 0.8, 'bagging_fraction': 0.8}\n",
    "    "
   ]
  },
  {
   "cell_type": "code",
   "execution_count": 64,
   "metadata": {
    "ExecuteTime": {
     "end_time": "2021-07-11T15:06:01.864687Z",
     "start_time": "2021-07-11T15:06:01.857672Z"
    },
    "id": "64owMInt3Y_G"
   },
   "outputs": [],
   "source": [
    "class FitterBase(object):\n",
    "    def __init__(self, label, metric, max_eval=100, opt=None):\n",
    "        self.label = label\n",
    "        self.metric = metric\n",
    "        self.opt_params = dict()\n",
    "        self.max_eval = max_eval\n",
    "        self.opt = opt\n",
    "\n",
    "    def get_loss(self, y, y_pred):\n",
    "        if self.metric == 'error':\n",
    "            return 1 - accuracy_score(y, y_pred)\n",
    "        elif self.metric == 'precision':\n",
    "            return 1 - precision_score(y, y_pred)\n",
    "        elif self.metric == 'recall':\n",
    "            return 1 - recall_score(y, y_pred)\n",
    "        elif self.metric == 'macro_f1':\n",
    "            return 1 - f1_score(y, y_pred, average='macro')\n",
    "        elif self.metric == 'micro_f1':\n",
    "            return 1 - f1_score(y, y_pred, average='micro')\n",
    "        elif self.metric == 'auc':  # TODO: Add a warning checking if y_predict is all [0, 1], it should be probability\n",
    "            return roc_auc_score(y, y_pred)\n",
    "        else:\n",
    "            raise Exception(\"Not implemented yet.\")\n"
   ]
  },
  {
   "cell_type": "code",
   "execution_count": 65,
   "metadata": {
    "ExecuteTime": {
     "end_time": "2021-07-11T15:06:02.117731Z",
     "start_time": "2021-07-11T15:06:02.091699Z"
    },
    "id": "EXkcB_jI3erG"
   },
   "outputs": [],
   "source": [
    "class LGBFitter(FitterBase):\n",
    "    def __init__(self, label='label', metric='error', opt: LGBOpt = None, max_eval=100):\n",
    "        super(LGBFitter, self).__init__(label, metric, max_eval)\n",
    "        if opt is not None:\n",
    "            self.opt = opt\n",
    "        else:\n",
    "            self.opt = LGBOpt()\n",
    "        self.best_round = None\n",
    "        self.clf = None\n",
    "\n",
    "    def train(self, train_df, eval_df, params=None, use_best_eval=True):\n",
    "        self.best_round = None\n",
    "        dtrain = lgb.Dataset(train_df.drop(columns=[self.label]), train_df[self.label])\n",
    "        deval = lgb.Dataset(eval_df.drop(columns=[self.label]), eval_df[self.label])\n",
    "        evallist = [dtrain, deval]\n",
    "        if params is None:\n",
    "            use_params = deepcopy(self.opt_params)\n",
    "        else:\n",
    "            use_params = deepcopy(params)\n",
    "\n",
    "        num_round = use_params.pop('num_round')\n",
    "        if use_best_eval:\n",
    "            with io.StringIO() as buf, redirect_stdout(buf):\n",
    "                self.clf = lgb.train(use_params, dtrain, num_round, valid_sets=evallist)\n",
    "                output = buf.getvalue().split(\"\\n\")\n",
    "            min_error = np.inf\n",
    "            min_index = 0\n",
    "            for idx in range(len(output) - 1):\n",
    "                if len(output[idx].split(\"\\t\")) == 3:\n",
    "                    temp = float(output[idx].split(\"\\t\")[2].split(\":\")[1])\n",
    "                    if min_error > temp:\n",
    "                        min_error = temp\n",
    "                        min_index = int(output[idx].split(\"\\t\")[0][1:-1])\n",
    "            print(\"The minimum is attained in round %d\" % (min_index + 1))\n",
    "            self.best_round = min_index + 1\n",
    "            return output\n",
    "        else:\n",
    "            with io.StringIO() as buf, redirect_stdout(buf):\n",
    "                self.clf = lgb.train(use_params, dtrain, num_round, valid_sets=evallist)\n",
    "                output = buf.getvalue().split(\"\\n\")\n",
    "            self.best_round = num_round\n",
    "            return output\n",
    "\n",
    "    def search(self, train_df, eval_df, use_best_eval=True):\n",
    "        self.opt_params = dict()\n",
    "\n",
    "        def train_impl(params):\n",
    "            self.train(train_df, eval_df, params, use_best_eval)\n",
    "            if self.metric == 'auc':\n",
    "                y_pred = self.clf.predict(eval_df.drop(columns=[self.label]), num_iteration=self.best_round)\n",
    "            else:\n",
    "                y_pred = (self.clf.predict(eval_df.drop(columns=[self.label]),\n",
    "                                           num_iteration=self.best_round) > 0.5).astype(int)\n",
    "            return self.get_loss(eval_df[self.label], y_pred)\n",
    "\n",
    "        self.opt_params = fmin(train_impl, asdict(self.opt), algo=tpe.suggest, max_evals=self.max_eval)\n",
    "\n",
    "    def search_k_fold(self, k_fold, data, use_best_eval=True):\n",
    "        self.opt_params = dict()\n",
    "\n",
    "        def train_impl_nfold(params):\n",
    "            loss = list()\n",
    "            for train_id, eval_id in k_fold.split(data):\n",
    "                train_df = data.loc[train_id]\n",
    "                eval_df = data.loc[eval_id]\n",
    "                self.train(train_df, eval_df, params, use_best_eval)\n",
    "                if self.metric == 'auc':\n",
    "                    y_pred = self.clf.predict(eval_df.drop(columns=[self.label]), num_iteration=self.best_round)\n",
    "                else:\n",
    "                    y_pred = (self.clf.predict(eval_df.drop(columns=[self.label]),\n",
    "                                               num_iteration=self.best_round) > 0.5).astype(int)\n",
    "                loss.append(self.get_loss(eval_df[self.label], y_pred))\n",
    "            return np.mean(loss)\n",
    "\n",
    "        self.opt_params = fmin(train_impl_nfold, asdict(self.opt), algo=tpe.suggest, max_evals=self.max_eval)\n",
    "\n",
    "    def train_k_fold(self, k_fold, train_data, test_data, params=None, drop_test_y=True, use_best_eval=True):\n",
    "        acc_result = list()\n",
    "        train_pred = np.empty(train_data.shape[0])\n",
    "        test_pred = np.empty(test_data.shape[0])\n",
    "        if drop_test_y:\n",
    "            dtest = test_data.drop(columns=self.label)\n",
    "        else:\n",
    "            dtest = test_data\n",
    "\n",
    "        models = list()\n",
    "        for train_id, eval_id in k_fold.split(train_data):\n",
    "            train_df = train_data.loc[train_id]\n",
    "            eval_df = train_data.loc[eval_id]\n",
    "            self.train(train_df, eval_df, params, use_best_eval)\n",
    "            models.append(copy.deepcopy(self.clf))\n",
    "            train_pred[eval_id] = self.clf.predict(eval_df.drop(columns=self.label), num_iteration=self.best_round)\n",
    "            if self.metric == 'auc':\n",
    "                y_pred = self.clf.predict(eval_df.drop(columns=[self.label]), num_iteration=self.best_round)\n",
    "            else:\n",
    "                y_pred = (self.clf.predict(eval_df.drop(columns=[self.label]),\n",
    "                                           num_iteration=self.best_round) > 0.5).astype(int)\n",
    "            acc_result.append(self.get_loss(eval_df[self.label], y_pred))\n",
    "            test_pred += self.clf.predict(dtest, num_iteration=self.best_round)\n",
    "        test_pred /= k_fold.n_splits\n",
    "        return train_pred, test_pred, acc_result, models"
   ]
  },
  {
   "cell_type": "code",
   "execution_count": 66,
   "metadata": {
    "ExecuteTime": {
     "end_time": "2021-07-11T15:06:02.274080Z",
     "start_time": "2021-07-11T15:06:02.271072Z"
    },
    "id": "l47zt7ma3nkw"
   },
   "outputs": [],
   "source": [
    "fitter = LGBFitter(label=label)#, metric='error')"
   ]
  },
  {
   "cell_type": "code",
   "execution_count": 78,
   "metadata": {
    "ExecuteTime": {
     "end_time": "2021-07-11T15:07:36.069258Z",
     "start_time": "2021-07-11T15:07:35.986628Z"
    }
   },
   "outputs": [],
   "source": [
    "from sklearn.utils import shuffle\n",
    "train = shuffle(train, random_state=42)\n",
    "from sklearn.model_selection import KFold\n",
    "kfold = KFold(n_splits=5, random_state=42)"
   ]
  },
  {
   "cell_type": "code",
   "execution_count": 68,
   "metadata": {
    "ExecuteTime": {
     "end_time": "2021-07-11T15:06:02.627623Z",
     "start_time": "2021-07-11T15:06:02.624619Z"
    }
   },
   "outputs": [],
   "source": [
    "params = {'num_thread': 4, 'num_leaves': 12, 'metric': 'binary', 'objective': 'binary', \n",
    "          'num_round': 1000, 'learning_rate': 0.02, 'feature_fraction': 0.8, 'bagging_fraction': 0.8}"
   ]
  },
  {
   "cell_type": "code",
   "execution_count": 79,
   "metadata": {
    "ExecuteTime": {
     "end_time": "2021-07-11T15:07:58.168906Z",
     "start_time": "2021-07-11T15:07:37.611898Z"
    },
    "id": "Gb6hAxDh34Wy",
    "scrolled": true
   },
   "outputs": [
    {
     "name": "stdout",
     "output_type": "stream",
     "text": [
      "The minimum is attained in round 421\n",
      "Finished loading model, total used 1000 iterations\n",
      "The minimum is attained in round 428\n",
      "Finished loading model, total used 1000 iterations\n",
      "The minimum is attained in round 399\n",
      "Finished loading model, total used 1000 iterations\n",
      "The minimum is attained in round 610\n",
      "Finished loading model, total used 1000 iterations\n",
      "The minimum is attained in round 297\n",
      "Finished loading model, total used 1000 iterations\n"
     ]
    },
    {
     "data": {
      "text/plain": [
       "array([0.57132392, 0.98764479, 0.98316766, ..., 0.98795254, 0.99730327,\n",
       "       0.99436857])"
      ]
     },
     "execution_count": 79,
     "metadata": {},
     "output_type": "execute_result"
    },
    {
     "data": {
      "text/plain": [
       "array([0.93694583, 0.99704801, 0.98051551, ..., 0.97393458, 0.99425868,\n",
       "       0.99430746])"
      ]
     },
     "execution_count": 79,
     "metadata": {},
     "output_type": "execute_result"
    },
    {
     "data": {
      "text/plain": [
       "[0.07230000000000003,\n",
       " 0.08079999999999998,\n",
       " 0.08340000000000003,\n",
       " 0.0837,\n",
       " 0.08020000000000005]"
      ]
     },
     "execution_count": 79,
     "metadata": {},
     "output_type": "execute_result"
    },
    {
     "data": {
      "text/plain": [
       "0.08008000000000001"
      ]
     },
     "execution_count": 79,
     "metadata": {},
     "output_type": "execute_result"
    }
   ],
   "source": [
    "params = {'num_thread': 4, 'num_leaves': 12, 'metric': 'binary', 'objective': 'binary', \n",
    "          'num_round': 1000, 'learning_rate': 0.02, 'feature_fraction': 0.8, 'bagging_fraction': 0.8}\n",
    "train_pred, test_pred, acc_result, models = fitter.train_k_fold(kfold, train, test, params = params)\n",
    "train_pred\n",
    "test_pred\n",
    "acc_result\n",
    "np.mean(acc_result)"
   ]
  },
  {
   "cell_type": "code",
   "execution_count": 89,
   "metadata": {
    "ExecuteTime": {
     "end_time": "2021-07-11T15:21:06.829555Z",
     "start_time": "2021-07-11T15:20:53.849655Z"
    }
   },
   "outputs": [
    {
     "name": "stdout",
     "output_type": "stream",
     "text": [
      "The minimum is attained in round 235\n",
      "Finished loading model, total used 500 iterations\n",
      "The minimum is attained in round 289\n",
      "Finished loading model, total used 500 iterations\n",
      "The minimum is attained in round 297\n",
      "Finished loading model, total used 500 iterations\n",
      "The minimum is attained in round 302\n",
      "Finished loading model, total used 500 iterations\n",
      "The minimum is attained in round 157\n",
      "Finished loading model, total used 500 iterations\n"
     ]
    },
    {
     "data": {
      "text/plain": [
       "array([0.54958592, 0.98576335, 0.98489702, ..., 0.9874093 , 0.99753093,\n",
       "       0.99394327])"
      ]
     },
     "execution_count": 89,
     "metadata": {},
     "output_type": "execute_result"
    },
    {
     "data": {
      "text/plain": [
       "array([0.93795266, 0.99728117, 1.22245357, ..., 1.20849751, 1.23303137,\n",
       "       1.23294966])"
      ]
     },
     "execution_count": 89,
     "metadata": {},
     "output_type": "execute_result"
    },
    {
     "data": {
      "text/plain": [
       "[0.07179999999999997,\n",
       " 0.08109999999999995,\n",
       " 0.08350000000000002,\n",
       " 0.08379999999999999,\n",
       " 0.07989999999999997]"
      ]
     },
     "execution_count": 89,
     "metadata": {},
     "output_type": "execute_result"
    },
    {
     "data": {
      "text/plain": [
       "0.08001999999999998"
      ]
     },
     "execution_count": 89,
     "metadata": {},
     "output_type": "execute_result"
    }
   ],
   "source": [
    "params = {'num_thread': 4, 'num_leaves': 12, 'metric': 'binary', 'objective': 'binary', \n",
    "          'num_round': 500, 'learning_rate': 0.04, 'feature_fraction': 0.8, 'bagging_fraction': 0.8}\n",
    "train_pred, test_pred, acc_result, models = fitter.train_k_fold(kfold, train, test, params = params)\n",
    "train_pred\n",
    "test_pred\n",
    "acc_result\n",
    "np.mean(acc_result)"
   ]
  },
  {
   "cell_type": "code",
   "execution_count": 88,
   "metadata": {
    "ExecuteTime": {
     "end_time": "2021-07-11T15:20:20.599463Z",
     "start_time": "2021-07-11T15:20:08.302087Z"
    },
    "scrolled": true
   },
   "outputs": [
    {
     "name": "stdout",
     "output_type": "stream",
     "text": [
      "The minimum is attained in round 235\n",
      "Finished loading model, total used 500 iterations\n",
      "The minimum is attained in round 289\n",
      "Finished loading model, total used 500 iterations\n",
      "The minimum is attained in round 297\n",
      "Finished loading model, total used 500 iterations\n",
      "The minimum is attained in round 302\n",
      "Finished loading model, total used 500 iterations\n",
      "The minimum is attained in round 157\n",
      "Finished loading model, total used 500 iterations\n"
     ]
    },
    {
     "data": {
      "text/plain": [
       "array([0.54958592, 0.98576335, 0.98489702, ..., 0.9874093 , 0.99753093,\n",
       "       0.99394327])"
      ]
     },
     "execution_count": 88,
     "metadata": {},
     "output_type": "execute_result"
    },
    {
     "data": {
      "text/plain": [
       "array([0.93795266, 0.99728117, 1.21448616, ..., 1.20858689, 1.23296505,\n",
       "       1.23287254])"
      ]
     },
     "execution_count": 88,
     "metadata": {},
     "output_type": "execute_result"
    },
    {
     "data": {
      "text/plain": [
       "[0.07179999999999997,\n",
       " 0.08109999999999995,\n",
       " 0.08350000000000002,\n",
       " 0.08379999999999999,\n",
       " 0.07989999999999997]"
      ]
     },
     "execution_count": 88,
     "metadata": {},
     "output_type": "execute_result"
    },
    {
     "data": {
      "text/plain": [
       "0.08001999999999998"
      ]
     },
     "execution_count": 88,
     "metadata": {},
     "output_type": "execute_result"
    }
   ],
   "source": [
    "params = {'num_thread': 4, 'num_leaves': 12, 'metric': 'binary', 'objective': 'binary', \n",
    "          'num_round': 500, 'learning_rate': 0.04, 'feature_fraction': 0.8, 'bagging_fraction': 0.8}\n",
    "train_pred, test_pred, acc_result, models = fitter.train_k_fold(kfold, train, test, params = params)\n",
    "train_pred\n",
    "test_pred\n",
    "acc_result\n",
    "np.mean(acc_result)"
   ]
  },
  {
   "cell_type": "code",
   "execution_count": 87,
   "metadata": {
    "ExecuteTime": {
     "end_time": "2021-07-11T15:20:08.299581Z",
     "start_time": "2021-07-11T15:19:22.965601Z"
    },
    "scrolled": false
   },
   "outputs": [
    {
     "name": "stdout",
     "output_type": "stream",
     "text": [
      "The minimum is attained in round 501\n",
      "Finished loading model, total used 500 iterations\n",
      "The minimum is attained in round 499\n",
      "Finished loading model, total used 500 iterations\n",
      "The minimum is attained in round 501\n",
      "Finished loading model, total used 500 iterations\n",
      "The minimum is attained in round 480\n",
      "Finished loading model, total used 500 iterations\n",
      "The minimum is attained in round 501\n",
      "Finished loading model, total used 500 iterations\n"
     ]
    },
    {
     "data": {
      "text/plain": [
       "array([0.56112737, 0.9827208 , 0.98366057, ..., 0.9886635 , 0.99846479,\n",
       "       0.99540066])"
      ]
     },
     "execution_count": 87,
     "metadata": {},
     "output_type": "execute_result"
    },
    {
     "data": {
      "text/plain": [
       "array([ 0.92334753,  0.9971198 ,  1.18060263, ..., 16.92098154,\n",
       "       17.88763764,  0.99313578])"
      ]
     },
     "execution_count": 87,
     "metadata": {},
     "output_type": "execute_result"
    },
    {
     "data": {
      "text/plain": [
       "[0.07140000000000002, 0.08020000000000005, 0.08230000000000004, 0.0847, 0.0797]"
      ]
     },
     "execution_count": 87,
     "metadata": {},
     "output_type": "execute_result"
    },
    {
     "data": {
      "text/plain": [
       "0.07966000000000002"
      ]
     },
     "execution_count": 87,
     "metadata": {},
     "output_type": "execute_result"
    },
    {
     "name": "stdout",
     "output_type": "stream",
     "text": [
      "****************************************************************************************************\n",
      "The minimum is attained in round 269\n",
      "Finished loading model, total used 500 iterations\n",
      "The minimum is attained in round 500\n",
      "Finished loading model, total used 500 iterations\n",
      "The minimum is attained in round 320\n",
      "Finished loading model, total used 500 iterations\n",
      "The minimum is attained in round 272\n",
      "Finished loading model, total used 500 iterations\n",
      "The minimum is attained in round 255\n",
      "Finished loading model, total used 500 iterations\n"
     ]
    },
    {
     "data": {
      "text/plain": [
       "array([0.55816596, 0.98366786, 0.9863372 , ..., 0.9881421 , 0.99800504,\n",
       "       0.99562633])"
      ]
     },
     "execution_count": 87,
     "metadata": {},
     "output_type": "execute_result"
    },
    {
     "data": {
      "text/plain": [
       "array([0.92432526, 0.99727729, 1.17473678, ..., 0.97478211, 0.99405823,\n",
       "       0.9941607 ])"
      ]
     },
     "execution_count": 87,
     "metadata": {},
     "output_type": "execute_result"
    },
    {
     "data": {
      "text/plain": [
       "[0.0726, 0.08040000000000003, 0.08389999999999997, 0.08360000000000001, 0.0796]"
      ]
     },
     "execution_count": 87,
     "metadata": {},
     "output_type": "execute_result"
    },
    {
     "data": {
      "text/plain": [
       "0.08002000000000001"
      ]
     },
     "execution_count": 87,
     "metadata": {},
     "output_type": "execute_result"
    },
    {
     "name": "stdout",
     "output_type": "stream",
     "text": [
      "****************************************************************************************************\n",
      "The minimum is attained in round 248\n",
      "Finished loading model, total used 500 iterations\n",
      "The minimum is attained in round 244\n",
      "Finished loading model, total used 500 iterations\n",
      "The minimum is attained in round 258\n",
      "Finished loading model, total used 500 iterations\n",
      "The minimum is attained in round 240\n",
      "Finished loading model, total used 500 iterations\n",
      "The minimum is attained in round 171\n",
      "Finished loading model, total used 500 iterations\n"
     ]
    },
    {
     "data": {
      "text/plain": [
       "array([0.55303001, 0.98257245, 0.98882171, ..., 0.98706028, 0.99730559,\n",
       "       0.99476441])"
      ]
     },
     "execution_count": 87,
     "metadata": {},
     "output_type": "execute_result"
    },
    {
     "data": {
      "text/plain": [
       "array([0.93260237, 0.99703661, 1.17404467, ..., 1.16893986, 1.19268511,\n",
       "       1.19275146])"
      ]
     },
     "execution_count": 87,
     "metadata": {},
     "output_type": "execute_result"
    },
    {
     "data": {
      "text/plain": [
       "[0.07169999999999999,\n",
       " 0.08089999999999997,\n",
       " 0.08379999999999999,\n",
       " 0.08330000000000004,\n",
       " 0.08040000000000003]"
      ]
     },
     "execution_count": 87,
     "metadata": {},
     "output_type": "execute_result"
    },
    {
     "data": {
      "text/plain": [
       "0.08002000000000001"
      ]
     },
     "execution_count": 87,
     "metadata": {},
     "output_type": "execute_result"
    },
    {
     "name": "stdout",
     "output_type": "stream",
     "text": [
      "****************************************************************************************************\n",
      "The minimum is attained in round 260\n",
      "Finished loading model, total used 500 iterations\n",
      "The minimum is attained in round 247\n",
      "Finished loading model, total used 500 iterations\n",
      "The minimum is attained in round 205\n",
      "Finished loading model, total used 500 iterations\n",
      "The minimum is attained in round 326\n",
      "Finished loading model, total used 500 iterations\n",
      "The minimum is attained in round 192\n",
      "Finished loading model, total used 500 iterations\n"
     ]
    },
    {
     "data": {
      "text/plain": [
       "array([0.55789259, 0.98415991, 0.98650139, ..., 0.98767737, 0.9979097 ,\n",
       "       0.99534171])"
      ]
     },
     "execution_count": 87,
     "metadata": {},
     "output_type": "execute_result"
    },
    {
     "data": {
      "text/plain": [
       "array([0.93485928, 0.99724816, 1.21388175, ..., 1.16849294, 1.19301671,\n",
       "       1.19313705])"
      ]
     },
     "execution_count": 87,
     "metadata": {},
     "output_type": "execute_result"
    },
    {
     "data": {
      "text/plain": [
       "[0.07220000000000004,\n",
       " 0.08089999999999997,\n",
       " 0.08340000000000003,\n",
       " 0.08409999999999995,\n",
       " 0.07899999999999996]"
      ]
     },
     "execution_count": 87,
     "metadata": {},
     "output_type": "execute_result"
    },
    {
     "data": {
      "text/plain": [
       "0.07991999999999999"
      ]
     },
     "execution_count": 87,
     "metadata": {},
     "output_type": "execute_result"
    },
    {
     "name": "stdout",
     "output_type": "stream",
     "text": [
      "****************************************************************************************************\n"
     ]
    }
   ],
   "source": [
    "for num_lef in [3,6,9,10]:\n",
    "    params = {'num_thread': 4, 'num_leaves': num_lef, 'metric': 'binary', 'objective': 'binary', \n",
    "          'num_round': 500, 'learning_rate': 0.04, 'feature_fraction': 0.8, 'bagging_fraction': 0.8}\n",
    "    train_pred, test_pred, acc_result, models = fitter.train_k_fold(kfold, train, test, params = params)\n",
    "    train_pred\n",
    "    test_pred\n",
    "    acc_result\n",
    "    np.mean(acc_result)\n",
    "\n",
    "    print(\"*\"*100)"
   ]
  },
  {
   "cell_type": "code",
   "execution_count": 91,
   "metadata": {
    "ExecuteTime": {
     "end_time": "2021-07-11T15:27:23.488486Z",
     "start_time": "2021-07-11T15:24:54.315443Z"
    },
    "scrolled": true
   },
   "outputs": [
    {
     "name": "stdout",
     "output_type": "stream",
     "text": [
      "The minimum is attained in round 797\n",
      "Finished loading model, total used 1000 iterations\n",
      "The minimum is attained in round 607\n",
      "Finished loading model, total used 1000 iterations\n",
      "The minimum is attained in round 767\n",
      "Finished loading model, total used 1000 iterations\n",
      "The minimum is attained in round 940\n",
      "Finished loading model, total used 1000 iterations\n",
      "The minimum is attained in round 602\n",
      "Finished loading model, total used 1000 iterations\n"
     ]
    },
    {
     "data": {
      "text/plain": [
       "array([0.56183917, 0.98275491, 0.98822176, ..., 0.9893255 , 0.99870949,\n",
       "       0.99582116])"
      ]
     },
     "execution_count": 91,
     "metadata": {},
     "output_type": "execute_result"
    },
    {
     "data": {
      "text/plain": [
       "array([0.92580428, 0.99741761, 1.22553151, ..., 1.21673828, 1.24200103,\n",
       "       1.24173591])"
      ]
     },
     "execution_count": 91,
     "metadata": {},
     "output_type": "execute_result"
    },
    {
     "data": {
      "text/plain": [
       "[0.07220000000000004,\n",
       " 0.08050000000000002,\n",
       " 0.08309999999999995,\n",
       " 0.08420000000000005,\n",
       " 0.07930000000000004]"
      ]
     },
     "execution_count": 91,
     "metadata": {},
     "output_type": "execute_result"
    },
    {
     "data": {
      "text/plain": [
       "0.07986000000000001"
      ]
     },
     "execution_count": 91,
     "metadata": {},
     "output_type": "execute_result"
    },
    {
     "name": "stdout",
     "output_type": "stream",
     "text": [
      "0.7 0.7\n",
      "****************************************************************************************************\n",
      "The minimum is attained in round 797\n",
      "Finished loading model, total used 1000 iterations\n",
      "The minimum is attained in round 607\n",
      "Finished loading model, total used 1000 iterations\n",
      "The minimum is attained in round 767\n",
      "Finished loading model, total used 1000 iterations\n",
      "The minimum is attained in round 940\n",
      "Finished loading model, total used 1000 iterations\n",
      "The minimum is attained in round 602\n",
      "Finished loading model, total used 1000 iterations\n"
     ]
    },
    {
     "data": {
      "text/plain": [
       "array([0.56183917, 0.98275491, 0.98822176, ..., 0.9893255 , 0.99870949,\n",
       "       0.99582116])"
      ]
     },
     "execution_count": 91,
     "metadata": {},
     "output_type": "execute_result"
    },
    {
     "data": {
      "text/plain": [
       "array([0.92580428, 0.99741761, 1.22553648, ..., 1.21672258, 1.24199718,\n",
       "       1.24173601])"
      ]
     },
     "execution_count": 91,
     "metadata": {},
     "output_type": "execute_result"
    },
    {
     "data": {
      "text/plain": [
       "[0.07220000000000004,\n",
       " 0.08050000000000002,\n",
       " 0.08309999999999995,\n",
       " 0.08420000000000005,\n",
       " 0.07930000000000004]"
      ]
     },
     "execution_count": 91,
     "metadata": {},
     "output_type": "execute_result"
    },
    {
     "data": {
      "text/plain": [
       "0.07986000000000001"
      ]
     },
     "execution_count": 91,
     "metadata": {},
     "output_type": "execute_result"
    },
    {
     "name": "stdout",
     "output_type": "stream",
     "text": [
      "0.7 0.8\n",
      "****************************************************************************************************\n",
      "The minimum is attained in round 797\n",
      "Finished loading model, total used 1000 iterations\n",
      "The minimum is attained in round 607\n",
      "Finished loading model, total used 1000 iterations\n",
      "The minimum is attained in round 767\n",
      "Finished loading model, total used 1000 iterations\n",
      "The minimum is attained in round 940\n",
      "Finished loading model, total used 1000 iterations\n",
      "The minimum is attained in round 602\n",
      "Finished loading model, total used 1000 iterations\n"
     ]
    },
    {
     "data": {
      "text/plain": [
       "array([0.56183917, 0.98275491, 0.98822176, ..., 0.9893255 , 0.99870949,\n",
       "       0.99582116])"
      ]
     },
     "execution_count": 91,
     "metadata": {},
     "output_type": "execute_result"
    },
    {
     "data": {
      "text/plain": [
       "array([0.92580428, 0.99741761, 1.22546505, ..., 1.21717941, 1.24202548,\n",
       "       1.2418122 ])"
      ]
     },
     "execution_count": 91,
     "metadata": {},
     "output_type": "execute_result"
    },
    {
     "data": {
      "text/plain": [
       "[0.07220000000000004,\n",
       " 0.08050000000000002,\n",
       " 0.08309999999999995,\n",
       " 0.08420000000000005,\n",
       " 0.07930000000000004]"
      ]
     },
     "execution_count": 91,
     "metadata": {},
     "output_type": "execute_result"
    },
    {
     "data": {
      "text/plain": [
       "0.07986000000000001"
      ]
     },
     "execution_count": 91,
     "metadata": {},
     "output_type": "execute_result"
    },
    {
     "name": "stdout",
     "output_type": "stream",
     "text": [
      "0.7 0.9\n",
      "****************************************************************************************************\n",
      "The minimum is attained in round 710\n",
      "Finished loading model, total used 1000 iterations\n",
      "The minimum is attained in round 724\n",
      "Finished loading model, total used 1000 iterations\n",
      "The minimum is attained in round 817\n",
      "Finished loading model, total used 1000 iterations\n",
      "The minimum is attained in round 599\n",
      "Finished loading model, total used 1000 iterations\n",
      "The minimum is attained in round 580\n",
      "Finished loading model, total used 1000 iterations\n"
     ]
    },
    {
     "data": {
      "text/plain": [
       "array([0.56462009, 0.98224674, 0.98748878, ..., 0.98908175, 0.99870961,\n",
       "       0.99550807])"
      ]
     },
     "execution_count": 91,
     "metadata": {},
     "output_type": "execute_result"
    },
    {
     "data": {
      "text/plain": [
       "array([0.92382798, 0.99738348, 1.22522852, ..., 1.21637536, 1.2419896 ,\n",
       "       1.24178917])"
      ]
     },
     "execution_count": 91,
     "metadata": {},
     "output_type": "execute_result"
    },
    {
     "data": {
      "text/plain": [
       "[0.07169999999999999,\n",
       " 0.07999999999999996,\n",
       " 0.08289999999999997,\n",
       " 0.08440000000000003,\n",
       " 0.0796]"
      ]
     },
     "execution_count": 91,
     "metadata": {},
     "output_type": "execute_result"
    },
    {
     "data": {
      "text/plain": [
       "0.07971999999999999"
      ]
     },
     "execution_count": 91,
     "metadata": {},
     "output_type": "execute_result"
    },
    {
     "name": "stdout",
     "output_type": "stream",
     "text": [
      "0.8 0.7\n",
      "****************************************************************************************************\n",
      "The minimum is attained in round 710\n",
      "Finished loading model, total used 1000 iterations\n",
      "The minimum is attained in round 724\n",
      "Finished loading model, total used 1000 iterations\n",
      "The minimum is attained in round 817\n",
      "Finished loading model, total used 1000 iterations\n",
      "The minimum is attained in round 599\n",
      "Finished loading model, total used 1000 iterations\n",
      "The minimum is attained in round 580\n",
      "Finished loading model, total used 1000 iterations\n"
     ]
    },
    {
     "data": {
      "text/plain": [
       "array([0.56462009, 0.98224674, 0.98748878, ..., 0.98908175, 0.99870961,\n",
       "       0.99550807])"
      ]
     },
     "execution_count": 91,
     "metadata": {},
     "output_type": "execute_result"
    },
    {
     "data": {
      "text/plain": [
       "array([0.92382798, 0.99738348, 1.22521423, ..., 1.21646672, 1.24199526,\n",
       "       1.24180441])"
      ]
     },
     "execution_count": 91,
     "metadata": {},
     "output_type": "execute_result"
    },
    {
     "data": {
      "text/plain": [
       "[0.07169999999999999,\n",
       " 0.07999999999999996,\n",
       " 0.08289999999999997,\n",
       " 0.08440000000000003,\n",
       " 0.0796]"
      ]
     },
     "execution_count": 91,
     "metadata": {},
     "output_type": "execute_result"
    },
    {
     "data": {
      "text/plain": [
       "0.07971999999999999"
      ]
     },
     "execution_count": 91,
     "metadata": {},
     "output_type": "execute_result"
    },
    {
     "name": "stdout",
     "output_type": "stream",
     "text": [
      "0.8 0.8\n",
      "****************************************************************************************************\n",
      "The minimum is attained in round 710\n",
      "Finished loading model, total used 1000 iterations\n",
      "The minimum is attained in round 724\n",
      "Finished loading model, total used 1000 iterations\n",
      "The minimum is attained in round 817\n",
      "Finished loading model, total used 1000 iterations\n",
      "The minimum is attained in round 599\n",
      "Finished loading model, total used 1000 iterations\n",
      "The minimum is attained in round 580\n",
      "Finished loading model, total used 1000 iterations\n"
     ]
    },
    {
     "data": {
      "text/plain": [
       "array([0.56462009, 0.98224674, 0.98748878, ..., 0.98908175, 0.99870961,\n",
       "       0.99550807])"
      ]
     },
     "execution_count": 91,
     "metadata": {},
     "output_type": "execute_result"
    },
    {
     "data": {
      "text/plain": [
       "array([0.92382798, 0.99738348, 1.22516693, ..., 1.21630591, 1.24198808,\n",
       "       1.24179981])"
      ]
     },
     "execution_count": 91,
     "metadata": {},
     "output_type": "execute_result"
    },
    {
     "data": {
      "text/plain": [
       "[0.07169999999999999,\n",
       " 0.07999999999999996,\n",
       " 0.08289999999999997,\n",
       " 0.08440000000000003,\n",
       " 0.0796]"
      ]
     },
     "execution_count": 91,
     "metadata": {},
     "output_type": "execute_result"
    },
    {
     "data": {
      "text/plain": [
       "0.07971999999999999"
      ]
     },
     "execution_count": 91,
     "metadata": {},
     "output_type": "execute_result"
    },
    {
     "name": "stdout",
     "output_type": "stream",
     "text": [
      "0.8 0.9\n",
      "****************************************************************************************************\n",
      "The minimum is attained in round 728\n",
      "Finished loading model, total used 1000 iterations\n",
      "The minimum is attained in round 683\n",
      "Finished loading model, total used 1000 iterations\n",
      "The minimum is attained in round 758\n",
      "Finished loading model, total used 1000 iterations\n",
      "The minimum is attained in round 869\n",
      "Finished loading model, total used 1000 iterations\n",
      "The minimum is attained in round 592\n",
      "Finished loading model, total used 1000 iterations\n"
     ]
    },
    {
     "data": {
      "text/plain": [
       "array([0.56552745, 0.98212273, 0.9875707 , ..., 0.98881816, 0.99877782,\n",
       "       0.99558217])"
      ]
     },
     "execution_count": 91,
     "metadata": {},
     "output_type": "execute_result"
    },
    {
     "data": {
      "text/plain": [
       "array([0.92468645, 0.9973403 , 1.22548468, ..., 1.21609859, 1.24188154,\n",
       "       1.24176756])"
      ]
     },
     "execution_count": 91,
     "metadata": {},
     "output_type": "execute_result"
    },
    {
     "data": {
      "text/plain": [
       "[0.07169999999999999,\n",
       " 0.08020000000000005,\n",
       " 0.08299999999999996,\n",
       " 0.08399999999999996,\n",
       " 0.0797]"
      ]
     },
     "execution_count": 91,
     "metadata": {},
     "output_type": "execute_result"
    },
    {
     "data": {
      "text/plain": [
       "0.07971999999999999"
      ]
     },
     "execution_count": 91,
     "metadata": {},
     "output_type": "execute_result"
    },
    {
     "name": "stdout",
     "output_type": "stream",
     "text": [
      "0.9 0.7\n",
      "****************************************************************************************************\n",
      "The minimum is attained in round 728\n",
      "Finished loading model, total used 1000 iterations\n",
      "The minimum is attained in round 683\n",
      "Finished loading model, total used 1000 iterations\n",
      "The minimum is attained in round 758\n",
      "Finished loading model, total used 1000 iterations\n",
      "The minimum is attained in round 869\n",
      "Finished loading model, total used 1000 iterations\n",
      "The minimum is attained in round 592\n",
      "Finished loading model, total used 1000 iterations\n"
     ]
    },
    {
     "data": {
      "text/plain": [
       "array([0.56552745, 0.98212273, 0.9875707 , ..., 0.98881816, 0.99877782,\n",
       "       0.99558217])"
      ]
     },
     "execution_count": 91,
     "metadata": {},
     "output_type": "execute_result"
    },
    {
     "data": {
      "text/plain": [
       "array([0.92468645, 0.9973403 , 1.22547522, ..., 1.21606643, 1.2418801 ,\n",
       "       1.24176664])"
      ]
     },
     "execution_count": 91,
     "metadata": {},
     "output_type": "execute_result"
    },
    {
     "data": {
      "text/plain": [
       "[0.07169999999999999,\n",
       " 0.08020000000000005,\n",
       " 0.08299999999999996,\n",
       " 0.08399999999999996,\n",
       " 0.0797]"
      ]
     },
     "execution_count": 91,
     "metadata": {},
     "output_type": "execute_result"
    },
    {
     "data": {
      "text/plain": [
       "0.07971999999999999"
      ]
     },
     "execution_count": 91,
     "metadata": {},
     "output_type": "execute_result"
    },
    {
     "name": "stdout",
     "output_type": "stream",
     "text": [
      "0.9 0.8\n",
      "****************************************************************************************************\n",
      "The minimum is attained in round 728\n",
      "Finished loading model, total used 1000 iterations\n",
      "The minimum is attained in round 683\n",
      "Finished loading model, total used 1000 iterations\n",
      "The minimum is attained in round 758\n",
      "Finished loading model, total used 1000 iterations\n",
      "The minimum is attained in round 869\n",
      "Finished loading model, total used 1000 iterations\n",
      "The minimum is attained in round 592\n",
      "Finished loading model, total used 1000 iterations\n"
     ]
    },
    {
     "data": {
      "text/plain": [
       "array([0.56552745, 0.98212273, 0.9875707 , ..., 0.98881816, 0.99877782,\n",
       "       0.99558217])"
      ]
     },
     "execution_count": 91,
     "metadata": {},
     "output_type": "execute_result"
    },
    {
     "data": {
      "text/plain": [
       "array([0.92468645, 0.9973403 , 1.22553877, ..., 1.21602496, 1.24185879,\n",
       "       1.24176019])"
      ]
     },
     "execution_count": 91,
     "metadata": {},
     "output_type": "execute_result"
    },
    {
     "data": {
      "text/plain": [
       "[0.07169999999999999,\n",
       " 0.08020000000000005,\n",
       " 0.08299999999999996,\n",
       " 0.08399999999999996,\n",
       " 0.0797]"
      ]
     },
     "execution_count": 91,
     "metadata": {},
     "output_type": "execute_result"
    },
    {
     "data": {
      "text/plain": [
       "0.07971999999999999"
      ]
     },
     "execution_count": 91,
     "metadata": {},
     "output_type": "execute_result"
    },
    {
     "name": "stdout",
     "output_type": "stream",
     "text": [
      "0.9 0.9\n",
      "****************************************************************************************************\n"
     ]
    }
   ],
   "source": [
    "for i in [0.7,0.8,0.9]:\n",
    "    for j in [0.7,0.8,0.9]:\n",
    "        params = {'num_thread': 4, 'num_leaves': 3, 'metric': 'binary', 'objective': 'binary', \n",
    "              'num_round': 1000, 'learning_rate': 0.04, 'feature_fraction': i, 'bagging_fraction': j}\n",
    "        train_pred, test_pred, acc_result, models = fitter.train_k_fold(kfold, train, test, params = params)\n",
    "        train_pred\n",
    "        test_pred\n",
    "        acc_result\n",
    "        np.mean(acc_result)\n",
    "        print(i, j)\n",
    "        print(\"*\"*100)"
   ]
  },
  {
   "cell_type": "code",
   "execution_count": 93,
   "metadata": {
    "ExecuteTime": {
     "end_time": "2021-07-11T15:29:57.689304Z",
     "start_time": "2021-07-11T15:28:46.448450Z"
    }
   },
   "outputs": [
    {
     "name": "stdout",
     "output_type": "stream",
     "text": [
      "The minimum is attained in round 3044\n",
      "Finished loading model, total used 4000 iterations\n",
      "The minimum is attained in round 2790\n",
      "Finished loading model, total used 4000 iterations\n",
      "The minimum is attained in round 3526\n",
      "Finished loading model, total used 4000 iterations\n",
      "The minimum is attained in round 3937\n",
      "Finished loading model, total used 4000 iterations\n",
      "The minimum is attained in round 2382\n",
      "Finished loading model, total used 4000 iterations\n"
     ]
    },
    {
     "data": {
      "text/plain": [
       "array([0.56555803, 0.98225181, 0.98749487, ..., 0.98895794, 0.99877657,\n",
       "       0.99558641])"
      ]
     },
     "execution_count": 93,
     "metadata": {},
     "output_type": "execute_result"
    },
    {
     "data": {
      "text/plain": [
       "array([0.92434078, 0.99736012, 0.98038301, ..., 0.97313799, 0.99356038,\n",
       "       0.99351334])"
      ]
     },
     "execution_count": 93,
     "metadata": {},
     "output_type": "execute_result"
    },
    {
     "data": {
      "text/plain": [
       "[0.07220000000000004,\n",
       " 0.08040000000000003,\n",
       " 0.08289999999999997,\n",
       " 0.08399999999999996,\n",
       " 0.0797]"
      ]
     },
     "execution_count": 93,
     "metadata": {},
     "output_type": "execute_result"
    },
    {
     "data": {
      "text/plain": [
       "0.07984"
      ]
     },
     "execution_count": 93,
     "metadata": {},
     "output_type": "execute_result"
    },
    {
     "name": "stdout",
     "output_type": "stream",
     "text": [
      "0.9 0.9\n",
      "****************************************************************************************************\n"
     ]
    }
   ],
   "source": [
    "for lr  in [0.005, 0.01, 0.02]:\n",
    "    params = {'num_thread': 4, 'num_leaves': 3, 'metric': 'binary', 'objective': 'binary', \n",
    "          'num_round': 4000, 'learning_rate': 0.01, 'feature_fraction': 0.8, 'bagging_fraction': 0.8}\n",
    "    train_pred, test_pred, acc_result, models = fitter.train_k_fold(kfold, train, test, params = params)\n",
    "    train_pred\n",
    "    test_pred\n",
    "    acc_result\n",
    "    np.mean(acc_result)\n",
    "    print(\"*\"*100)"
   ]
  },
  {
   "cell_type": "code",
   "execution_count": 95,
   "metadata": {
    "ExecuteTime": {
     "end_time": "2021-07-11T15:34:40.028184Z",
     "start_time": "2021-07-11T15:34:23.653597Z"
    }
   },
   "outputs": [
    {
     "name": "stdout",
     "output_type": "stream",
     "text": [
      "The minimum is attained in round 710\n",
      "Finished loading model, total used 1000 iterations\n",
      "The minimum is attained in round 724\n",
      "Finished loading model, total used 1000 iterations\n",
      "The minimum is attained in round 817\n",
      "Finished loading model, total used 1000 iterations\n",
      "The minimum is attained in round 599\n",
      "Finished loading model, total used 1000 iterations\n",
      "The minimum is attained in round 580\n",
      "Finished loading model, total used 1000 iterations\n"
     ]
    },
    {
     "data": {
      "text/plain": [
       "array([0.56462009, 0.98224674, 0.98748878, ..., 0.98908175, 0.99870961,\n",
       "       0.99550807])"
      ]
     },
     "execution_count": 95,
     "metadata": {},
     "output_type": "execute_result"
    },
    {
     "data": {
      "text/plain": [
       "array([0.92382798, 0.99738348, 1.17619783, ..., 1.16765844, 1.19230224,\n",
       "       1.19214464])"
      ]
     },
     "execution_count": 95,
     "metadata": {},
     "output_type": "execute_result"
    },
    {
     "data": {
      "text/plain": [
       "[0.07169999999999999,\n",
       " 0.07999999999999996,\n",
       " 0.08289999999999997,\n",
       " 0.08440000000000003,\n",
       " 0.0796]"
      ]
     },
     "execution_count": 95,
     "metadata": {},
     "output_type": "execute_result"
    },
    {
     "data": {
      "text/plain": [
       "0.07971999999999999"
      ]
     },
     "execution_count": 95,
     "metadata": {},
     "output_type": "execute_result"
    }
   ],
   "source": [
    "params = {'num_thread': 4, 'num_leaves': 3, 'metric': 'binary', 'objective': 'binary', \n",
    "      'num_round':1000, 'learning_rate': 0.04, 'feature_fraction': 0.8, 'bagging_fraction': 0.8}\n",
    "train_pred, test_pred, acc_result, models = fitter.train_k_fold(kfold, train, test, params = params)\n",
    "train_pred\n",
    "test_pred\n",
    "acc_result\n",
    "np.mean(acc_result)"
   ]
  },
  {
   "cell_type": "code",
   "execution_count": 97,
   "metadata": {
    "ExecuteTime": {
     "end_time": "2021-07-11T15:36:14.662373Z",
     "start_time": "2021-07-11T15:36:03.635735Z"
    }
   },
   "outputs": [
    {
     "name": "stdout",
     "output_type": "stream",
     "text": [
      "The minimum is attained in round 501\n",
      "Finished loading model, total used 500 iterations\n",
      "The minimum is attained in round 499\n",
      "Finished loading model, total used 500 iterations\n",
      "The minimum is attained in round 501\n",
      "Finished loading model, total used 500 iterations\n",
      "The minimum is attained in round 480\n",
      "Finished loading model, total used 500 iterations\n",
      "The minimum is attained in round 501\n",
      "Finished loading model, total used 500 iterations\n"
     ]
    },
    {
     "data": {
      "text/plain": [
       "array([0.56112737, 0.9827208 , 0.98366057, ..., 0.9886635 , 0.99846479,\n",
       "       0.99540066])"
      ]
     },
     "execution_count": 97,
     "metadata": {},
     "output_type": "execute_result"
    },
    {
     "data": {
      "text/plain": [
       "array([0.92334753, 0.9971198 , 1.22574471, ..., 1.21501884, 1.24203952,\n",
       "       1.24143335])"
      ]
     },
     "execution_count": 97,
     "metadata": {},
     "output_type": "execute_result"
    },
    {
     "data": {
      "text/plain": [
       "[0.07140000000000002, 0.08020000000000005, 0.08230000000000004, 0.0847, 0.0797]"
      ]
     },
     "execution_count": 97,
     "metadata": {},
     "output_type": "execute_result"
    },
    {
     "data": {
      "text/plain": [
       "0.07966000000000002"
      ]
     },
     "execution_count": 97,
     "metadata": {},
     "output_type": "execute_result"
    }
   ],
   "source": [
    "params = {'num_thread': 4, 'num_leaves': 3, 'metric': 'binary', 'objective': 'binary', \n",
    "          'num_round': 500, 'learning_rate': 0.04, 'feature_fraction': 0.8, 'bagging_fraction': 0.8}\n",
    "train_pred, test_pred, acc_result, models = fitter.train_k_fold(kfold, train, test, params = params)\n",
    "train_pred\n",
    "test_pred\n",
    "acc_result\n",
    "np.mean(acc_result)"
   ]
  },
  {
   "cell_type": "code",
   "execution_count": 98,
   "metadata": {
    "ExecuteTime": {
     "end_time": "2021-07-11T15:37:38.081962Z",
     "start_time": "2021-07-11T15:37:38.072480Z"
    }
   },
   "outputs": [
    {
     "data": {
      "text/plain": [
       "0.91588"
      ]
     },
     "execution_count": 98,
     "metadata": {},
     "output_type": "execute_result"
    }
   ],
   "source": [
    "accuracy_score(test[label], (test_pred> 0.5).astype(int))"
   ]
  }
 ],
 "metadata": {
  "colab": {
   "collapsed_sections": [],
   "machine_shape": "hm",
   "name": "chap06.ipynb",
   "provenance": []
  },
  "kernelspec": {
   "display_name": "Python 3",
   "language": "python",
   "name": "python3"
  },
  "language_info": {
   "codemirror_mode": {
    "name": "ipython",
    "version": 3
   },
   "file_extension": ".py",
   "mimetype": "text/x-python",
   "name": "python",
   "nbconvert_exporter": "python",
   "pygments_lexer": "ipython3",
   "version": "3.8.3"
  },
  "toc": {
   "base_numbering": 1,
   "nav_menu": {},
   "number_sections": true,
   "sideBar": true,
   "skip_h1_title": false,
   "title_cell": "Table of Contents",
   "title_sidebar": "Contents",
   "toc_cell": false,
   "toc_position": {},
   "toc_section_display": true,
   "toc_window_display": false
  }
 },
 "nbformat": 4,
 "nbformat_minor": 1
}
